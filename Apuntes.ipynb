{
 "cells": [
  {
   "cell_type": "code",
   "execution_count": 10,
   "id": "462564fe-442a-4450-abd1-e49b28b6c263",
   "metadata": {},
   "outputs": [
    {
     "ename": "SyntaxError",
     "evalue": "invalid syntax (790812320.py, line 2)",
     "output_type": "error",
     "traceback": [
      "\u001b[0;36m  Cell \u001b[0;32mIn[10], line 2\u001b[0;36m\u001b[0m\n\u001b[0;31m    source APA/bin/activate\u001b[0m\n\u001b[0m           ^\u001b[0m\n\u001b[0;31mSyntaxError\u001b[0m\u001b[0;31m:\u001b[0m invalid syntax\n"
     ]
    }
   ],
   "source": [
    "## para iniciar el espacio APA.\n",
    "source APA/bin/activate \n",
    "## Para instalar cualquier cosa en ubuntu.\n",
    "sudo apt install *algo\n",
    "## Para instalar cosas en windows.\n",
    "pip3.exe install jupyterlab\n",
    "## En las listas se añade una coma final\n",
    "lista = [1,2,\"jamon\",]"
   ]
  },
  {
   "cell_type": "code",
   "execution_count": 9,
   "id": "d9900abf-55c5-4e1c-96e0-e318b8b9bdfe",
   "metadata": {},
   "outputs": [],
   "source": [
    "## primero:último:incremento\n",
    "## primero ->(el único)\n",
    "## primero : -> desde el primero hasta el final \n",
    "## primero : postultimo -> desde el primero hasta el anterior del post ultimo\n",
    "lista = [1, 2, 3, 4, 5, 6,]\n",
    "lista [:]\n",
    "lista [:3]\n",
    "lista [::-1] ## va al revés\n",
    "lista.append(\"algo\") ## añades UN elemento\n",
    "lista.extend ([A,B]) ## añades una lista de elementos\n",
    "lista.pop() ## Muestra el útlimo elemento y lo elimina de la lista.\n",
    "lista.remove(\"algo\") ## Borra \"algo\""
   ]
  },
  {
   "cell_type": "code",
   "execution_count": null,
   "id": "f0ee0883-480e-469a-a857-1304c933e9f4",
   "metadata": {},
   "outputs": [],
   "source": [
    "## para crear una tupla\n",
    "tupla = 1, 2, 3, 4, 5, 6\n",
    "## no puedes modificarla, solo el contenido de los valores"
   ]
  },
  {
   "cell_type": "code",
   "execution_count": null,
   "id": "defbb535-35a8-42c5-99ea-b695708cd5e9",
   "metadata": {},
   "outputs": [],
   "source": [
    "## Conjunto: coleccion de objetos no repetidos, no ordinarizables e immutables\n",
    "## Conjunto de Euler: separados por ',' y entre llaves '{}'\n",
    "conjunto.add(\"algo\")\n",
    "conjunto1 & conjunto2 # intersección\n",
    "conjunto1 | conjunto2 # unión\n",
    "conjunto1 - conjunto2 # ni idea"
   ]
  },
  {
   "cell_type": "code",
   "execution_count": null,
   "id": "a238b7b8-e775-45fe-bccd-daa6e137d9bc",
   "metadata": {},
   "outputs": [],
   "source": [
    "# Genera un rango pero es una estructura lógica, solo se genera cuando lo pides\n",
    "rang = range(10)\n",
    "rang = range (1000,2000)\n",
    "iterador = iter(rang)\n",
    "next(iterador)\n",
    "list(rang)\n",
    "tensor = np.array(#cosas#)"
   ]
  },
  {
   "cell_type": "code",
   "execution_count": 2,
   "id": "439d0250-eac2-4eef-8435-4550e5528ecc",
   "metadata": {},
   "outputs": [
    {
     "name": "stdout",
     "output_type": "stream",
     "text": [
      "el numero 33 es trino\n"
     ]
    }
   ],
   "source": [
    "#if condicion: comando1;comando2;comando3;\n",
    "    \n",
    "numero = 33\n",
    "if numero % 2 == 0: # estamos condicionando si es un número par.\n",
    "    print(f\"el numero {numero} es par\")\n",
    "elif numero % 3 == 0:\n",
    "    print(f\"el numero {numero} es trino\")\n",
    "elif numero % 5 == 0:\n",
    "    print(f\"el numero {numero} es multiplo de 5\")\n",
    "else:\n",
    "    print(f\"el numero {numero} no es ni par ni trino ni multiplo de 5\")"
   ]
  },
  {
   "cell_type": "code",
   "execution_count": 3,
   "id": "6bd56f1d-a8a7-4f4f-8d38-1d68278a02db",
   "metadata": {},
   "outputs": [
    {
     "ename": "SyntaxError",
     "evalue": "incomplete input (2069788806.py, line 4)",
     "output_type": "error",
     "traceback": [
      "\u001b[0;36m  Cell \u001b[0;32mIn[3], line 4\u001b[0;36m\u001b[0m\n\u001b[0;31m    while numero > 0:\u001b[0m\n\u001b[0m                     ^\u001b[0m\n\u001b[0;31mSyntaxError\u001b[0m\u001b[0;31m:\u001b[0m incomplete input\n"
     ]
    }
   ],
   "source": [
    "#define abs(x) (x>0 ? x : -x)\n",
    "exprTrue if condicion else exprFalse\n",
    "numero if numero > 0 else -numero\n",
    "while numero > 0:\n",
    "    print numero\n",
    "    numero -= 1"
   ]
  },
  {
   "cell_type": "code",
   "execution_count": 5,
   "id": "9233578d-d35d-4371-9b51-82e99dfc4be1",
   "metadata": {},
   "outputs": [
    {
     "name": "stdout",
     "output_type": "stream",
     "text": [
      "azul\n",
      "verde\n",
      "rojo\n"
     ]
    }
   ],
   "source": [
    "colors = {\"rojo\",\"azul\",\"verde\"}\n",
    "for color in colors:\n",
    "    print (f\"{color}\")\n",
    "    "
   ]
  },
  {
   "cell_type": "code",
   "execution_count": 4,
   "id": "cf1b8ca4-cff9-4d5b-953a-4b2ab8a1bb38",
   "metadata": {},
   "outputs": [],
   "source": [
    "diccionari = dict (((\"white\",\"blanc\"), (\"black\",\"negre\"), (\"blue\",\"blau\"), (\"red\",\"vermell\")))"
   ]
  },
  {
   "cell_type": "code",
   "execution_count": 5,
   "id": "b4f4b8c7-2ee8-454c-a654-fdb29334ad64",
   "metadata": {},
   "outputs": [
    {
     "data": {
      "text/plain": [
       "{'white': 'blanc', 'black': 'negre', 'blue': 'blau', 'red': 'vermell'}"
      ]
     },
     "execution_count": 5,
     "metadata": {},
     "output_type": "execute_result"
    }
   ],
   "source": [
    "diccionari"
   ]
  },
  {
   "cell_type": "code",
   "execution_count": 6,
   "id": "c31f5ec6-b2c7-4a1f-b1eb-cf8ce953ed48",
   "metadata": {},
   "outputs": [
    {
     "name": "stdout",
     "output_type": "stream",
     "text": [
      "white en català és blanc\n",
      "black en català és negre\n",
      "blue en català és blau\n",
      "red en català és vermell\n"
     ]
    }
   ],
   "source": [
    "len(diccionari) # 4\n",
    "#diccionari[1] daría error pq no hay posiciones\n",
    "diccionari [\"white\"]\n",
    "for clau in diccionari:\n",
    "    print (f\"{clau} en català és {diccionari[clau]}\")"
   ]
  },
  {
   "cell_type": "code",
   "execution_count": 8,
   "id": "b503f22d-f8fe-4fb0-b072-291319d98014",
   "metadata": {},
   "outputs": [
    {
     "name": "stdout",
     "output_type": "stream",
     "text": [
      "0: white en català és blanc\n",
      "1: black en català és negre\n",
      "2: blue en català és blau\n",
      "3: red en català és vermell\n"
     ]
    }
   ],
   "source": [
    "for i, clau in enumerate (diccionari): # cada vez que se ejec. se reinician \"clau\" e \"i\"\n",
    "    print(f\"{i}: {clau} en català és {diccionari[clau]}\")\n"
   ]
  },
  {
   "cell_type": "code",
   "execution_count": 9,
   "id": "ff2a3b3e-d80f-4d06-8f68-0f4ce7266324",
   "metadata": {},
   "outputs": [],
   "source": [
    "nombres = \"josep\", \"pol\", \"montserrat\", \"nuria\"\n",
    "apellidos = \"esquerrà\", \"alaminos\", \"cuevas\", \"rodríguez\"\n",
    "notas = 0, 2, 5, 1\n",
    "alumnos = zip(nombres, apellidos, notas)"
   ]
  },
  {
   "cell_type": "code",
   "execution_count": 15,
   "id": "a17bd384-afd2-4c73-b4d7-6f7e0e18b250",
   "metadata": {},
   "outputs": [
    {
     "data": {
      "text/plain": [
       "('pol', 'alaminos', 2)"
      ]
     },
     "execution_count": 15,
     "metadata": {},
     "output_type": "execute_result"
    }
   ],
   "source": [
    "next (alumnos)"
   ]
  },
  {
   "cell_type": "code",
   "execution_count": 16,
   "id": "2037e922-07b3-4721-8a3d-3bd803c94627",
   "metadata": {},
   "outputs": [
    {
     "name": "stdout",
     "output_type": "stream",
     "text": [
      "nombre='josep' apellido='esquerrà' nota=0\n",
      "nombre='pol' apellido='alaminos' nota=2\n",
      "nombre='montserrat' apellido='cuevas' nota=5\n",
      "nombre='nuria' apellido='rodríguez' nota=1\n"
     ]
    }
   ],
   "source": [
    "for nombre, apellido, nota in zip(nombres, apellidos, notas):\n",
    "    print (f\"{nombre=} {apellido=} {nota=}\")"
   ]
  },
  {
   "cell_type": "code",
   "execution_count": null,
   "id": "6839e4ec-1560-4777-9305-ad66a319ce44",
   "metadata": {},
   "outputs": [],
   "source": [
    "from itertools import zip_longest\n",
    "for nombre, apellido, nota in zip(nombres, apellidos, notas):\n",
    "    print (f\"{nombre=} {apellido=} {nota=}\")\n",
    "    #si hay algun valor vacío, lo rellena con \"none\""
   ]
  },
  {
   "cell_type": "code",
   "execution_count": 18,
   "id": "ecaad36d-e9ac-419d-83da-aeefadfbc8f7",
   "metadata": {},
   "outputs": [],
   "source": [
    "#pasar los nombres a minusculas los nombres con más de 5 letras\n",
    "rara =[]\n",
    "for nom in nombres + apellidos:\n",
    "    if len(nom) > 5:\n",
    "        rara.append(nom.lower())"
   ]
  },
  {
   "cell_type": "code",
   "execution_count": 20,
   "id": "bbc4dedb-34ac-4251-9962-ccc98d94e086",
   "metadata": {},
   "outputs": [
    {
     "data": {
      "text/plain": [
       "['montserrat', 'esquerrà', 'alaminos', 'cuevas', 'rodríguez']"
      ]
     },
     "execution_count": 20,
     "metadata": {},
     "output_type": "execute_result"
    }
   ],
   "source": [
    "[nom.lower() for nom in nombres + apellidos if len(nom) > 5]\n",
    "# expresion for elemento if iterable if condición"
   ]
  },
  {
   "cell_type": "code",
   "execution_count": 21,
   "id": "2a1d5084-7eea-418b-b71a-6f29f3fc1c03",
   "metadata": {},
   "outputs": [
    {
     "name": "stdout",
     "output_type": "stream",
     "text": [
      "si la he capturado\n"
     ]
    }
   ],
   "source": [
    "class Clase:\n",
    "    materia = 'APA'\n",
    "\n",
    "Clase.materia #devuelve APA\n",
    "try:\n",
    "    raise(Exception('No la he calculado'))\n",
    "except:\n",
    "    print (f\"si la he capturado\")\n",
    "\n"
   ]
  },
  {
   "cell_type": "code",
   "execution_count": 22,
   "id": "1f3da625-35f1-40f1-9ea5-92260987fe72",
   "metadata": {},
   "outputs": [],
   "source": [
    "def por_dos (n):\n",
    "    \"\"\"\n",
    "    Multiploca si argumento n por dos\n",
    "    \"\"\"\n",
    "    return 2*n"
   ]
  },
  {
   "cell_type": "code",
   "execution_count": 23,
   "id": "d72db4e9-da91-455d-9c4a-91401ae5fd86",
   "metadata": {},
   "outputs": [
    {
     "name": "stdout",
     "output_type": "stream",
     "text": [
      "Help on function por_dos in module __main__:\n",
      "\n",
      "por_dos(n)\n",
      "    Multiploca si argumento n por dos\n",
      "\n"
     ]
    }
   ],
   "source": [
    "help(por_dos)"
   ]
  },
  {
   "cell_type": "code",
   "execution_count": null,
   "id": "3889fb78-2e56-46a2-8d34-cb4534a253e6",
   "metadata": {},
   "outputs": [],
   "source": [
    "def cociente_modulo(n, d):\n",
    "    return n//d, n%d"
   ]
  },
  {
   "cell_type": "code",
   "execution_count": null,
   "id": "783d2c7c-e98d-4d2c-b68a-37562cb5f9f2",
   "metadata": {},
   "outputs": [],
   "source": [
    "code\n",
    "#se abre un código\n",
    "import divisions\n",
    "divisions.division(72,5)\n",
    "run divisions\n",
    "division(72,5)"
   ]
  },
  {
   "cell_type": "code",
   "execution_count": 1,
   "id": "500be6c5-ea48-458f-8485-a161b2b50832",
   "metadata": {},
   "outputs": [],
   "source": [
    "# Esto dentro de un archivo divide.py\n",
    "def divide(x, y):\n",
    "    return x/y"
   ]
  },
  {
   "cell_type": "code",
   "execution_count": 3,
   "id": "cf12e2b4-d833-478e-800c-444db55cacff",
   "metadata": {},
   "outputs": [
    {
     "ename": "ModuleNotFoundError",
     "evalue": "No module named 'divide'",
     "output_type": "error",
     "traceback": [
      "\u001b[0;31m---------------------------------------------------------------------------\u001b[0m",
      "\u001b[0;31mModuleNotFoundError\u001b[0m                       Traceback (most recent call last)",
      "Cell \u001b[0;32mIn[3], line 1\u001b[0m\n\u001b[0;32m----> 1\u001b[0m \u001b[38;5;28;01mimport\u001b[39;00m\u001b[38;5;250m \u001b[39m\u001b[38;5;21;01mdivide\u001b[39;00m\u001b[38;5;250m \u001b[39m\u001b[38;5;28;01mas\u001b[39;00m\u001b[38;5;250m \u001b[39m\u001b[38;5;21;01mdv\u001b[39;00m\n\u001b[1;32m      2\u001b[0m \u001b[38;5;28;01mdef\u001b[39;00m\u001b[38;5;250m \u001b[39m\u001b[38;5;21mpeta\u001b[39m(x, y):\n\u001b[1;32m      3\u001b[0m     \u001b[38;5;28;01mreturn\u001b[39;00m peta2(x, y)\n",
      "\u001b[0;31mModuleNotFoundError\u001b[0m: No module named 'divide'"
     ]
    }
   ],
   "source": [
    "import divide as dv\n",
    "def peta(x, y):\n",
    "    return peta2(x, y)\n",
    "def peta2(x, y):\n",
    "    return peta3(x, y)\n",
    "def peta3(x, y):\n",
    "    return dv.divide(x, y)"
   ]
  },
  {
   "cell_type": "code",
   "execution_count": 4,
   "id": "55c4508e-76b0-4e69-bf5c-76503dee12c9",
   "metadata": {},
   "outputs": [
    {
     "ename": "FileNotFoundError",
     "evalue": "[Errno 2] No such file or directory: 'peta.py'",
     "output_type": "error",
     "traceback": [
      "\u001b[0;31m---------------------------------------------------------------------------\u001b[0m",
      "\u001b[0;31mFileNotFoundError\u001b[0m                         Traceback (most recent call last)",
      "Cell \u001b[0;32mIn[4], line 1\u001b[0m\n\u001b[0;32m----> 1\u001b[0m exec(\u001b[38;5;28;43mopen\u001b[39;49m\u001b[43m(\u001b[49m\u001b[38;5;124;43m'\u001b[39;49m\u001b[38;5;124;43mpeta.py\u001b[39;49m\u001b[38;5;124;43m'\u001b[39;49m\u001b[43m)\u001b[49m\u001b[38;5;241m.\u001b[39mread())\n",
      "File \u001b[0;32m~/APA/lib/python3.12/site-packages/IPython/core/interactiveshell.py:324\u001b[0m, in \u001b[0;36m_modified_open\u001b[0;34m(file, *args, **kwargs)\u001b[0m\n\u001b[1;32m    317\u001b[0m \u001b[38;5;28;01mif\u001b[39;00m file \u001b[38;5;129;01min\u001b[39;00m {\u001b[38;5;241m0\u001b[39m, \u001b[38;5;241m1\u001b[39m, \u001b[38;5;241m2\u001b[39m}:\n\u001b[1;32m    318\u001b[0m     \u001b[38;5;28;01mraise\u001b[39;00m \u001b[38;5;167;01mValueError\u001b[39;00m(\n\u001b[1;32m    319\u001b[0m         \u001b[38;5;124mf\u001b[39m\u001b[38;5;124m\"\u001b[39m\u001b[38;5;124mIPython won\u001b[39m\u001b[38;5;124m'\u001b[39m\u001b[38;5;124mt let you open fd=\u001b[39m\u001b[38;5;132;01m{\u001b[39;00mfile\u001b[38;5;132;01m}\u001b[39;00m\u001b[38;5;124m by default \u001b[39m\u001b[38;5;124m\"\u001b[39m\n\u001b[1;32m    320\u001b[0m         \u001b[38;5;124m\"\u001b[39m\u001b[38;5;124mas it is likely to crash IPython. If you know what you are doing, \u001b[39m\u001b[38;5;124m\"\u001b[39m\n\u001b[1;32m    321\u001b[0m         \u001b[38;5;124m\"\u001b[39m\u001b[38;5;124myou can use builtins\u001b[39m\u001b[38;5;124m'\u001b[39m\u001b[38;5;124m open.\u001b[39m\u001b[38;5;124m\"\u001b[39m\n\u001b[1;32m    322\u001b[0m     )\n\u001b[0;32m--> 324\u001b[0m \u001b[38;5;28;01mreturn\u001b[39;00m \u001b[43mio_open\u001b[49m\u001b[43m(\u001b[49m\u001b[43mfile\u001b[49m\u001b[43m,\u001b[49m\u001b[43m \u001b[49m\u001b[38;5;241;43m*\u001b[39;49m\u001b[43margs\u001b[49m\u001b[43m,\u001b[49m\u001b[43m \u001b[49m\u001b[38;5;241;43m*\u001b[39;49m\u001b[38;5;241;43m*\u001b[39;49m\u001b[43mkwargs\u001b[49m\u001b[43m)\u001b[49m\n",
      "\u001b[0;31mFileNotFoundError\u001b[0m: [Errno 2] No such file or directory: 'peta.py'"
     ]
    }
   ],
   "source": [
    "exec(open('peta.py').read())\n",
    "# Mejor hacer un import "
   ]
  },
  {
   "cell_type": "code",
   "execution_count": 5,
   "id": "d010dfdd-e645-4ffe-a0d8-863e078f6987",
   "metadata": {},
   "outputs": [
    {
     "ename": "KeyError",
     "evalue": "'Culpa de juan'",
     "output_type": "error",
     "traceback": [
      "\u001b[0;31m---------------------------------------------------------------------------\u001b[0m",
      "\u001b[0;31mKeyError\u001b[0m                                  Traceback (most recent call last)",
      "Cell \u001b[0;32mIn[5], line 1\u001b[0m\n\u001b[0;32m----> 1\u001b[0m \u001b[38;5;28;01mraise\u001b[39;00m \u001b[38;5;167;01mKeyError\u001b[39;00m(\u001b[38;5;124m\"\u001b[39m\u001b[38;5;124mCulpa de juan\u001b[39m\u001b[38;5;124m\"\u001b[39m)\n",
      "\u001b[0;31mKeyError\u001b[0m: 'Culpa de juan'"
     ]
    }
   ],
   "source": [
    "raise KeyError(\"Culpa de juan\")"
   ]
  },
  {
   "cell_type": "code",
   "execution_count": 6,
   "id": "5750aaf0-a250-4d83-8369-9ef26149ef35",
   "metadata": {},
   "outputs": [
    {
     "ename": "Exception",
     "evalue": "Alguna razón",
     "output_type": "error",
     "traceback": [
      "\u001b[0;31m---------------------------------------------------------------------------\u001b[0m",
      "\u001b[0;31mException\u001b[0m                                 Traceback (most recent call last)",
      "Cell \u001b[0;32mIn[6], line 1\u001b[0m\n\u001b[0;32m----> 1\u001b[0m \u001b[38;5;28;01mraise\u001b[39;00m \u001b[38;5;167;01mException\u001b[39;00m(\u001b[38;5;124m'\u001b[39m\u001b[38;5;124mAlguna razón\u001b[39m\u001b[38;5;124m'\u001b[39m)\n",
      "\u001b[0;31mException\u001b[0m: Alguna razón"
     ]
    }
   ],
   "source": [
    "raise Exception('Alguna razón')"
   ]
  },
  {
   "cell_type": "code",
   "execution_count": 14,
   "id": "98a12318-fc14-41bb-91a1-593ab99d60e1",
   "metadata": {},
   "outputs": [
    {
     "name": "stdout",
     "output_type": "stream",
     "text": [
      "todo ok\n"
     ]
    }
   ],
   "source": [
    "try:\n",
    "    1/2\n",
    "except (ZeroDivisionError, KeyError, SyntaxError) as excepcion:\n",
    "    print('Error de sintaxis: ', excepcion)\n",
    "else:\n",
    "    print (\"todo ok\")"
   ]
  },
  {
   "cell_type": "code",
   "execution_count": 1,
   "id": "8de8fbb1-fe3e-4ebe-8700-d0d0c9b30687",
   "metadata": {},
   "outputs": [
    {
     "ename": "SyntaxError",
     "evalue": "invalid syntax (2093145438.py, line 2)",
     "output_type": "error",
     "traceback": [
      "\u001b[1;36m  Cell \u001b[1;32mIn[1], line 2\u001b[1;36m\u001b[0m\n\u001b[1;33m    git pull\u001b[0m\n\u001b[1;37m        ^\u001b[0m\n\u001b[1;31mSyntaxError\u001b[0m\u001b[1;31m:\u001b[0m invalid syntax\n"
     ]
    }
   ],
   "source": [
    "# Para actualizar tus datos en el repositorio local\n",
    "git pull"
   ]
  },
  {
   "cell_type": "code",
   "execution_count": 2,
   "id": "97a6b3bb-f524-4789-962d-2eda57aeeb8a",
   "metadata": {},
   "outputs": [],
   "source": [
    "lista = [1, 2, 3]"
   ]
  },
  {
   "cell_type": "code",
   "execution_count": 3,
   "id": "2a35ebad-2f7c-4f3e-bf8b-69add59eb36d",
   "metadata": {},
   "outputs": [
    {
     "name": "stdout",
     "output_type": "stream",
     "text": [
      "[1] 3 [1] 2 [1]\n"
     ]
    }
   ],
   "source": [
    "print(lista, lista.pop(), lista, lista.pop(), lista)"
   ]
  },
  {
   "cell_type": "code",
   "execution_count": 4,
   "id": "3bbd656f-3fc5-4516-8c96-f653c5e6417a",
   "metadata": {},
   "outputs": [
    {
     "name": "stdout",
     "output_type": "stream",
     "text": [
      "None 3 Algo\n"
     ]
    }
   ],
   "source": [
    "def funcion(uno, dos, tres):\n",
    "    print (uno, dos, tres)\n",
    "funcion(None, 3, \"Algo\")"
   ]
  },
  {
   "cell_type": "code",
   "execution_count": 7,
   "id": "2df4be59-b441-4c90-8391-20729ae64d41",
   "metadata": {},
   "outputs": [
    {
     "name": "stdout",
     "output_type": "stream",
     "text": [
      "None 3 lo que me dé la gana\n"
     ]
    }
   ],
   "source": [
    "def funcion(uno, dos, tres = \"lo que me dé la gana\"):\n",
    "    print (uno, dos, tres)\n",
    "funcion(None, 3)"
   ]
  },
  {
   "cell_type": "code",
   "execution_count": 8,
   "id": "9c883f49-068c-4465-b16a-4fe5af871170",
   "metadata": {},
   "outputs": [
    {
     "name": "stdout",
     "output_type": "stream",
     "text": [
      "1 2 3\n"
     ]
    }
   ],
   "source": [
    "def funcion(uno, /, dos, *, tres):\n",
    "    print (uno, dos, tres)\n",
    "funcion(1, dos = 2, tres = 3)\n",
    "    # El * fuerza invocacion por clave\n",
    "    # El / fuerza invocacion posicional"
   ]
  },
  {
   "cell_type": "code",
   "execution_count": 9,
   "id": "3504422e-0197-421a-ae76-b1ca3220e586",
   "metadata": {},
   "outputs": [
    {
     "name": "stdout",
     "output_type": "stream",
     "text": [
      "1\t2\t3\t4\t5\n"
     ]
    }
   ],
   "source": [
    "print(1, 2, 3, 4, 5, sep='\\t')\n",
    "# Separacion"
   ]
  },
  {
   "cell_type": "code",
   "execution_count": 10,
   "id": "081ef951-20e3-4142-8d8e-8fced6065925",
   "metadata": {},
   "outputs": [
    {
     "name": "stdout",
     "output_type": "stream",
     "text": [
      "(1, 2, 3)\n",
      "1\n",
      "2\n",
      "3\n"
     ]
    }
   ],
   "source": [
    "def funcion2(*elementos):\n",
    "    print(elementos)\n",
    "    for elemento in elementos:\n",
    "        print(elemento)\n",
    "funcion2(1, 2, 3)"
   ]
  },
  {
   "cell_type": "code",
   "execution_count": 12,
   "id": "0f0260c6-f8cf-4258-85d7-4c460d277ba2",
   "metadata": {},
   "outputs": [
    {
     "name": "stdout",
     "output_type": "stream",
     "text": [
      "1 2 3 4 5\n"
     ]
    }
   ],
   "source": [
    "lista = [1, 2, 3, 4, 5]\n",
    "print(*lista)\n",
    "# En vez de como un solo objeto, muestra los 5 como separados"
   ]
  },
  {
   "cell_type": "code",
   "execution_count": 13,
   "id": "fd8d0c66-55e0-46f1-bc3f-34dd91488a2c",
   "metadata": {},
   "outputs": [
    {
     "ename": "TypeError",
     "evalue": "funcion() got an unexpected keyword argument 'U'",
     "output_type": "error",
     "traceback": [
      "\u001b[1;31m---------------------------------------------------------------------------\u001b[0m",
      "\u001b[1;31mTypeError\u001b[0m                                 Traceback (most recent call last)",
      "Cell \u001b[1;32mIn[13], line 2\u001b[0m\n\u001b[0;32m      1\u001b[0m diccionario \u001b[38;5;241m=\u001b[39m {\u001b[38;5;124m'\u001b[39m\u001b[38;5;124mU\u001b[39m\u001b[38;5;124m'\u001b[39m : \u001b[38;5;241m1\u001b[39m, \u001b[38;5;124m'\u001b[39m\u001b[38;5;124mDos\u001b[39m\u001b[38;5;124m'\u001b[39m : \u001b[38;5;241m2\u001b[39m, \u001b[38;5;124m'\u001b[39m\u001b[38;5;124mTres\u001b[39m\u001b[38;5;124m'\u001b[39m :\u001b[38;5;241m3\u001b[39m}\n\u001b[1;32m----> 2\u001b[0m \u001b[43mfuncion\u001b[49m\u001b[43m(\u001b[49m\u001b[38;5;241;43m*\u001b[39;49m\u001b[38;5;241;43m*\u001b[39;49m\u001b[43mdiccionario\u001b[49m\u001b[43m)\u001b[49m\n",
      "\u001b[1;31mTypeError\u001b[0m: funcion() got an unexpected keyword argument 'U'"
     ]
    }
   ],
   "source": [
    "funcion()"
   ]
  },
  {
   "cell_type": "code",
   "execution_count": 13,
   "id": "385a46ac-cabd-437f-b950-8532208a47c4",
   "metadata": {},
   "outputs": [
    {
     "ename": "TypeError",
     "evalue": "funcion() got an unexpected keyword argument 'U'",
     "output_type": "error",
     "traceback": [
      "\u001b[1;31m---------------------------------------------------------------------------\u001b[0m",
      "\u001b[1;31mTypeError\u001b[0m                                 Traceback (most recent call last)",
      "Cell \u001b[1;32mIn[13], line 2\u001b[0m\n\u001b[0;32m      1\u001b[0m diccionario \u001b[38;5;241m=\u001b[39m {\u001b[38;5;124m'\u001b[39m\u001b[38;5;124mU\u001b[39m\u001b[38;5;124m'\u001b[39m : \u001b[38;5;241m1\u001b[39m, \u001b[38;5;124m'\u001b[39m\u001b[38;5;124mDos\u001b[39m\u001b[38;5;124m'\u001b[39m : \u001b[38;5;241m2\u001b[39m, \u001b[38;5;124m'\u001b[39m\u001b[38;5;124mTres\u001b[39m\u001b[38;5;124m'\u001b[39m :\u001b[38;5;241m3\u001b[39m}\n\u001b[1;32m----> 2\u001b[0m \u001b[43mfuncion\u001b[49m\u001b[43m(\u001b[49m\u001b[38;5;241;43m*\u001b[39;49m\u001b[38;5;241;43m*\u001b[39;49m\u001b[43mdiccionario\u001b[49m\u001b[43m)\u001b[49m\n",
      "\u001b[1;31mTypeError\u001b[0m: funcion() got an unexpected keyword argument 'U'"
     ]
    }
   ],
   "source": [
    "diccionario = {'U' : 1, 'Dos' : 2, 'Tres' :3}\n",
    "funcion(**diccionario)"
   ]
  },
  {
   "cell_type": "code",
   "execution_count": null,
   "id": "fb90025e-7387-4d82-9c1d-df2d297969f5",
   "metadata": {},
   "outputs": [],
   "source": []
  }
 ],
 "metadata": {
  "kernelspec": {
   "display_name": "Python 3 (ipykernel)",
   "language": "python",
   "name": "python3"
  },
  "language_info": {
   "codemirror_mode": {
    "name": "ipython",
    "version": 3
   },
   "file_extension": ".py",
   "mimetype": "text/x-python",
   "name": "python",
   "nbconvert_exporter": "python",
   "pygments_lexer": "ipython3",
   "version": "3.11.9"
  }
 },
 "nbformat": 4,
 "nbformat_minor": 5
}
